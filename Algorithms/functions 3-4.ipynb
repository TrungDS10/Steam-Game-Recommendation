{
  "nbformat": 4,
  "nbformat_minor": 0,
  "metadata": {
    "colab": {
      "name": "GMD_1.ipynb",
      "provenance": [],
      "collapsed_sections": []
    },
    "kernelspec": {
      "name": "python3",
      "display_name": "Python 3"
    },
    "language_info": {
      "name": "python"
    },
    "accelerator": "GPU"
  },
  "cells": [
    {
      "cell_type": "code",
      "metadata": {
        "colab": {
          "base_uri": "https://localhost:8080/"
        },
        "id": "FtT5j9l2hddY",
        "outputId": "c1501c80-6ceb-44ad-907c-cf3404c4f16a"
      },
      "source": [
        "!pip install scikit-surprise"
      ],
      "execution_count": null,
      "outputs": [
        {
          "output_type": "stream",
          "name": "stdout",
          "text": [
            "Collecting scikit-surprise\n",
            "  Downloading scikit-surprise-1.1.1.tar.gz (11.8 MB)\n",
            "\u001b[K     |████████████████████████████████| 11.8 MB 3.7 MB/s \n",
            "\u001b[?25hRequirement already satisfied: joblib>=0.11 in /usr/local/lib/python3.7/dist-packages (from scikit-surprise) (1.0.1)\n",
            "Requirement already satisfied: numpy>=1.11.2 in /usr/local/lib/python3.7/dist-packages (from scikit-surprise) (1.19.5)\n",
            "Requirement already satisfied: scipy>=1.0.0 in /usr/local/lib/python3.7/dist-packages (from scikit-surprise) (1.4.1)\n",
            "Requirement already satisfied: six>=1.10.0 in /usr/local/lib/python3.7/dist-packages (from scikit-surprise) (1.15.0)\n",
            "Building wheels for collected packages: scikit-surprise\n",
            "  Building wheel for scikit-surprise (setup.py) ... \u001b[?25l\u001b[?25hdone\n",
            "  Created wheel for scikit-surprise: filename=scikit_surprise-1.1.1-cp37-cp37m-linux_x86_64.whl size=1619420 sha256=6d04448d3b624e90c743ba2635ced3d4f9f6f0e2f0315b3209183d68b7288438\n",
            "  Stored in directory: /root/.cache/pip/wheels/76/44/74/b498c42be47b2406bd27994e16c5188e337c657025ab400c1c\n",
            "Successfully built scikit-surprise\n",
            "Installing collected packages: scikit-surprise\n",
            "Successfully installed scikit-surprise-1.1.1\n"
          ]
        }
      ]
    },
    {
      "cell_type": "code",
      "metadata": {
        "colab": {
          "base_uri": "https://localhost:8080/"
        },
        "id": "wh56w8VBAET7",
        "outputId": "1cc42107-070b-4697-e4ee-1cb65c131a7a"
      },
      "source": [
        "import pandas as pd \n",
        "import numpy as np\n",
        "import matplotlib.pyplot as plt\n",
        "import seaborn as sns\n",
        "from surprise import Reader, Dataset, SVD\n",
        "from surprise.model_selection import cross_validate\n",
        "print(\"IMPORT COMPLETE\")"
      ],
      "execution_count": null,
      "outputs": [
        {
          "output_type": "stream",
          "name": "stdout",
          "text": [
            "IMPORT COMPLETE\n"
          ]
        }
      ]
    },
    {
      "cell_type": "code",
      "metadata": {
        "id": "5mDm7yzuFB5A"
      },
      "source": [
        "#LOAD DATASET\n",
        "steam = pd.read_csv(\"/content/drive/MyDrive/Dataset/update_steam/steam.csv\")\n",
        "tag = pd.read_csv(\"/content/drive/MyDrive/Dataset/update_steam/steamspy_tag_data.csv\")\n",
        "description = pd.read_csv(\"/content/drive/MyDrive/Dataset/update_steam/steam_description_data.csv\")"
      ],
      "execution_count": null,
      "outputs": []
    },
    {
      "cell_type": "markdown",
      "metadata": {
        "id": "vV7d1jZMGR1U"
      },
      "source": [
        "# **Content Based Recommend**"
      ]
    },
    {
      "cell_type": "code",
      "metadata": {
        "colab": {
          "base_uri": "https://localhost:8080/",
          "height": 167
        },
        "id": "idAjhobUIGcF",
        "outputId": "ce8f963c-a79a-4e6a-8171-84ec3f50fb92"
      },
      "source": [
        "steam.head(1)"
      ],
      "execution_count": null,
      "outputs": [
        {
          "output_type": "execute_result",
          "data": {
            "text/html": [
              "<div>\n",
              "<style scoped>\n",
              "    .dataframe tbody tr th:only-of-type {\n",
              "        vertical-align: middle;\n",
              "    }\n",
              "\n",
              "    .dataframe tbody tr th {\n",
              "        vertical-align: top;\n",
              "    }\n",
              "\n",
              "    .dataframe thead th {\n",
              "        text-align: right;\n",
              "    }\n",
              "</style>\n",
              "<table border=\"1\" class=\"dataframe\">\n",
              "  <thead>\n",
              "    <tr style=\"text-align: right;\">\n",
              "      <th></th>\n",
              "      <th>appid</th>\n",
              "      <th>name</th>\n",
              "      <th>release_date</th>\n",
              "      <th>english</th>\n",
              "      <th>developer</th>\n",
              "      <th>publisher</th>\n",
              "      <th>platforms</th>\n",
              "      <th>required_age</th>\n",
              "      <th>categories</th>\n",
              "      <th>genres</th>\n",
              "      <th>steamspy_tags</th>\n",
              "      <th>achievements</th>\n",
              "      <th>positive_ratings</th>\n",
              "      <th>negative_ratings</th>\n",
              "      <th>average_playtime</th>\n",
              "      <th>median_playtime</th>\n",
              "      <th>owners</th>\n",
              "      <th>price</th>\n",
              "    </tr>\n",
              "  </thead>\n",
              "  <tbody>\n",
              "    <tr>\n",
              "      <th>0</th>\n",
              "      <td>10</td>\n",
              "      <td>Counter-Strike</td>\n",
              "      <td>11/1/2000</td>\n",
              "      <td>1</td>\n",
              "      <td>Valve</td>\n",
              "      <td>Valve</td>\n",
              "      <td>windows;mac;linux</td>\n",
              "      <td>0</td>\n",
              "      <td>Multi-player;Online Multi-Player;Local Multi-P...</td>\n",
              "      <td>Action</td>\n",
              "      <td>Action;FPS;Multiplayer</td>\n",
              "      <td>0</td>\n",
              "      <td>124534</td>\n",
              "      <td>3339</td>\n",
              "      <td>17612</td>\n",
              "      <td>317</td>\n",
              "      <td>10000000-20000000</td>\n",
              "      <td>7.19</td>\n",
              "    </tr>\n",
              "  </tbody>\n",
              "</table>\n",
              "</div>"
            ],
            "text/plain": [
              "   appid            name  ...             owners  price\n",
              "0     10  Counter-Strike  ...  10000000-20000000   7.19\n",
              "\n",
              "[1 rows x 18 columns]"
            ]
          },
          "metadata": {},
          "execution_count": 4
        }
      ]
    },
    {
      "cell_type": "code",
      "metadata": {
        "colab": {
          "base_uri": "https://localhost:8080/",
          "height": 142
        },
        "id": "axpb9clwFLen",
        "outputId": "66187e3e-6e17-4078-bfbe-2b76d7e6d672"
      },
      "source": [
        "description.head(3)"
      ],
      "execution_count": null,
      "outputs": [
        {
          "output_type": "execute_result",
          "data": {
            "text/html": [
              "<div>\n",
              "<style scoped>\n",
              "    .dataframe tbody tr th:only-of-type {\n",
              "        vertical-align: middle;\n",
              "    }\n",
              "\n",
              "    .dataframe tbody tr th {\n",
              "        vertical-align: top;\n",
              "    }\n",
              "\n",
              "    .dataframe thead th {\n",
              "        text-align: right;\n",
              "    }\n",
              "</style>\n",
              "<table border=\"1\" class=\"dataframe\">\n",
              "  <thead>\n",
              "    <tr style=\"text-align: right;\">\n",
              "      <th></th>\n",
              "      <th>steam_appid</th>\n",
              "      <th>detailed_description</th>\n",
              "      <th>about_the_game</th>\n",
              "      <th>short_description</th>\n",
              "    </tr>\n",
              "  </thead>\n",
              "  <tbody>\n",
              "    <tr>\n",
              "      <th>0</th>\n",
              "      <td>10</td>\n",
              "      <td>Play the world's number 1 online action game. ...</td>\n",
              "      <td>Play the world's number 1 online action game. ...</td>\n",
              "      <td>Play the world's number 1 online action game. ...</td>\n",
              "    </tr>\n",
              "    <tr>\n",
              "      <th>1</th>\n",
              "      <td>20</td>\n",
              "      <td>One of the most popular online action games of...</td>\n",
              "      <td>One of the most popular online action games of...</td>\n",
              "      <td>One of the most popular online action games of...</td>\n",
              "    </tr>\n",
              "    <tr>\n",
              "      <th>2</th>\n",
              "      <td>30</td>\n",
              "      <td>Enlist in an intense brand of Axis vs. Allied ...</td>\n",
              "      <td>Enlist in an intense brand of Axis vs. Allied ...</td>\n",
              "      <td>Enlist in an intense brand of Axis vs. Allied ...</td>\n",
              "    </tr>\n",
              "  </tbody>\n",
              "</table>\n",
              "</div>"
            ],
            "text/plain": [
              "   steam_appid  ...                                  short_description\n",
              "0           10  ...  Play the world's number 1 online action game. ...\n",
              "1           20  ...  One of the most popular online action games of...\n",
              "2           30  ...  Enlist in an intense brand of Axis vs. Allied ...\n",
              "\n",
              "[3 rows x 4 columns]"
            ]
          },
          "metadata": {},
          "execution_count": 5
        }
      ]
    },
    {
      "cell_type": "code",
      "metadata": {
        "colab": {
          "base_uri": "https://localhost:8080/",
          "height": 167
        },
        "id": "kO5gnOFZFkrr",
        "outputId": "bbc7bc30-0bce-4cf4-9f9b-f243678862e8"
      },
      "source": [
        "# Merge about_the_game columns in description with steam data\n",
        "dp1 = description[[\"steam_appid\",\"about_the_game\"]]\n",
        "dp1.columns = [\"appid\", \"about_the_game\"]\n",
        "original_df = pd.merge(steam,dp1, how =\"left\", on = \"appid\")\n",
        "original_df.head(1)"
      ],
      "execution_count": null,
      "outputs": [
        {
          "output_type": "execute_result",
          "data": {
            "text/html": [
              "<div>\n",
              "<style scoped>\n",
              "    .dataframe tbody tr th:only-of-type {\n",
              "        vertical-align: middle;\n",
              "    }\n",
              "\n",
              "    .dataframe tbody tr th {\n",
              "        vertical-align: top;\n",
              "    }\n",
              "\n",
              "    .dataframe thead th {\n",
              "        text-align: right;\n",
              "    }\n",
              "</style>\n",
              "<table border=\"1\" class=\"dataframe\">\n",
              "  <thead>\n",
              "    <tr style=\"text-align: right;\">\n",
              "      <th></th>\n",
              "      <th>appid</th>\n",
              "      <th>name</th>\n",
              "      <th>release_date</th>\n",
              "      <th>english</th>\n",
              "      <th>developer</th>\n",
              "      <th>publisher</th>\n",
              "      <th>platforms</th>\n",
              "      <th>required_age</th>\n",
              "      <th>categories</th>\n",
              "      <th>genres</th>\n",
              "      <th>steamspy_tags</th>\n",
              "      <th>achievements</th>\n",
              "      <th>positive_ratings</th>\n",
              "      <th>negative_ratings</th>\n",
              "      <th>average_playtime</th>\n",
              "      <th>median_playtime</th>\n",
              "      <th>owners</th>\n",
              "      <th>price</th>\n",
              "      <th>about_the_game</th>\n",
              "    </tr>\n",
              "  </thead>\n",
              "  <tbody>\n",
              "    <tr>\n",
              "      <th>0</th>\n",
              "      <td>10</td>\n",
              "      <td>Counter-Strike</td>\n",
              "      <td>11/1/2000</td>\n",
              "      <td>1</td>\n",
              "      <td>Valve</td>\n",
              "      <td>Valve</td>\n",
              "      <td>windows;mac;linux</td>\n",
              "      <td>0</td>\n",
              "      <td>Multi-player;Online Multi-Player;Local Multi-P...</td>\n",
              "      <td>Action</td>\n",
              "      <td>Action;FPS;Multiplayer</td>\n",
              "      <td>0</td>\n",
              "      <td>124534</td>\n",
              "      <td>3339</td>\n",
              "      <td>17612</td>\n",
              "      <td>317</td>\n",
              "      <td>10000000-20000000</td>\n",
              "      <td>7.19</td>\n",
              "      <td>Play the world's number 1 online action game. ...</td>\n",
              "    </tr>\n",
              "  </tbody>\n",
              "</table>\n",
              "</div>"
            ],
            "text/plain": [
              "   appid  ...                                     about_the_game\n",
              "0     10  ...  Play the world's number 1 online action game. ...\n",
              "\n",
              "[1 rows x 19 columns]"
            ]
          },
          "metadata": {},
          "execution_count": 6
        }
      ]
    },
    {
      "cell_type": "code",
      "metadata": {
        "colab": {
          "base_uri": "https://localhost:8080/"
        },
        "id": "S2h39nYDP8AL",
        "outputId": "85b57715-84ee-4af5-8b0a-d9217bd43e82"
      },
      "source": [
        "# df = original_df.sample(frac=0.75)\n",
        "# df = original_df[:15000]\n",
        "df = original_df[:10000]\n",
        "print(len(original_df),\" | \",len(df))"
      ],
      "execution_count": null,
      "outputs": [
        {
          "output_type": "stream",
          "name": "stdout",
          "text": [
            "27075  |  10000\n"
          ]
        }
      ]
    },
    {
      "cell_type": "code",
      "metadata": {
        "id": "D1AAof1TJkYh",
        "colab": {
          "base_uri": "https://localhost:8080/"
        },
        "outputId": "6ac7ab99-b9bf-41d6-e595-b65a08627d55"
      },
      "source": [
        "#Construct a reverse map of indices and movie titles\n",
        "indices = pd.Series(df.index, index=df['name']).drop_duplicates()\n",
        "indices.head(10)"
      ],
      "execution_count": null,
      "outputs": [
        {
          "output_type": "execute_result",
          "data": {
            "text/plain": [
              "name\n",
              "Counter-Strike                   0\n",
              "Team Fortress Classic            1\n",
              "Day of Defeat                    2\n",
              "Deathmatch Classic               3\n",
              "Half-Life Opposing Force         4\n",
              "Ricochet                         5\n",
              "Half-Life                        6\n",
              "Counter-Strike Condition Zero    7\n",
              "Half-Life Blue Shift             8\n",
              "Half-Life 2                      9\n",
              "dtype: int64"
            ]
          },
          "metadata": {},
          "execution_count": 8
        }
      ]
    },
    {
      "cell_type": "code",
      "metadata": {
        "colab": {
          "base_uri": "https://localhost:8080/"
        },
        "id": "P7Q8KHKhr8a0",
        "outputId": "3a74602b-0f46-40a6-b0e6-bedc0f5e6a7d"
      },
      "source": [
        "# MERGE about_the_game WITH steamspy_tags\n",
        "# MERGE developer,publisher, categories, steamspy_tags\n",
        "# df['soup'] = df['about_the_game'] + df['steamspy_tags'].str.replace(';',' ')\n",
        "# df['soup'] = df['steamspy_tags'].str.replace(';',' ')\n",
        "# df['soup'] = df['steamspy_tags'].str.replace(';',' ') + df['about_the_game']\n",
        "df['soup'] = df['developer']+\" \"+df['publisher']+\" \"+df['categories'].str.replace(';',' ') + df['steamspy_tags'].str.replace(';',' ')"
      ],
      "execution_count": null,
      "outputs": [
        {
          "output_type": "stream",
          "name": "stderr",
          "text": [
            "/usr/local/lib/python3.7/dist-packages/ipykernel_launcher.py:6: SettingWithCopyWarning: \n",
            "A value is trying to be set on a copy of a slice from a DataFrame.\n",
            "Try using .loc[row_indexer,col_indexer] = value instead\n",
            "\n",
            "See the caveats in the documentation: https://pandas.pydata.org/pandas-docs/stable/user_guide/indexing.html#returning-a-view-versus-a-copy\n",
            "  \n"
          ]
        }
      ]
    },
    {
      "cell_type": "code",
      "metadata": {
        "colab": {
          "base_uri": "https://localhost:8080/",
          "height": 35
        },
        "id": "qzSATC9RsTas",
        "outputId": "cf11c33c-5775-4c35-8ae9-32f004255528"
      },
      "source": [
        "df['soup'][0]"
      ],
      "execution_count": null,
      "outputs": [
        {
          "output_type": "execute_result",
          "data": {
            "application/vnd.google.colaboratory.intrinsic+json": {
              "type": "string"
            },
            "text/plain": [
              "'Valve Valve Multi-player Online Multi-Player Local Multi-Player Valve Anti-Cheat enabledAction FPS Multiplayer'"
            ]
          },
          "metadata": {},
          "execution_count": 10
        }
      ]
    },
    {
      "cell_type": "code",
      "metadata": {
        "id": "pSPVNwXpG3dH"
      },
      "source": [
        "# Import CountVectorizer and create the count matrix\n",
        "from sklearn.feature_extraction.text import CountVectorizer\n",
        "count = CountVectorizer(stop_words='english')\n",
        "# count_matrix = count.fit_transform(df['about_the_game'])\n",
        "count_matrix = count.fit_transform(df['soup'])"
      ],
      "execution_count": null,
      "outputs": []
    },
    {
      "cell_type": "code",
      "metadata": {
        "colab": {
          "base_uri": "https://localhost:8080/"
        },
        "id": "Y-KHiBC-fqlP",
        "outputId": "ccb8936c-1460-4d42-8258-9fa64d87f2b8"
      },
      "source": [
        "count_matrix.shape"
      ],
      "execution_count": null,
      "outputs": [
        {
          "output_type": "execute_result",
          "data": {
            "text/plain": [
              "(10000, 8876)"
            ]
          },
          "metadata": {},
          "execution_count": 12
        }
      ]
    },
    {
      "cell_type": "code",
      "metadata": {
        "id": "52YRROZQNhTj"
      },
      "source": [
        "# Compute the Cosine Similarity matrix based on the count_matrix\n",
        "from sklearn.metrics.pairwise import cosine_similarity\n",
        "cosine_sim = cosine_similarity(count_matrix, count_matrix)"
      ],
      "execution_count": null,
      "outputs": []
    },
    {
      "cell_type": "code",
      "metadata": {
        "id": "EDVTI6RrJssw"
      },
      "source": [
        "# Function that takes in movie title as input and outputs most similar movies\n",
        "def get_recommendations(title):\n",
        "    # Get the index of the movie that matches the title\n",
        "    idx = indices[title]\n",
        "\n",
        "    # Get the pairwsie similarity scores of all movies with that movie\n",
        "    sim_scores = list(enumerate(cosine_sim[idx]))\n",
        "\n",
        "    # Sort the movies based on the similarity scores\n",
        "    sim_scores = sorted(sim_scores, key=lambda x: x[1], reverse=True)\n",
        "\n",
        "    # Get the scores of the 10 most game movies\n",
        "    sim_scores = sim_scores[1:11]\n",
        "    # Get the movie indices\n",
        "    game_indices = [i[0] for i in sim_scores]\n",
        "    # Return the top 10 most game movies\n",
        "    result = df.iloc[game_indices]\n",
        "    #Sort by positive ratings\n",
        "    # result = df.iloc[game_indices].sort_values(by='positive_ratings', ascending=False)\n",
        "    \n",
        "    return result[['name', 'positive_ratings','price']]"
      ],
      "execution_count": null,
      "outputs": []
    },
    {
      "cell_type": "code",
      "metadata": {
        "id": "tMP7G5QrJw9l",
        "colab": {
          "base_uri": "https://localhost:8080/",
          "height": 357
        },
        "outputId": "36826bb6-7768-4e9a-d7d4-89829c4b3214"
      },
      "source": [
        "get_recommendations(\"NARUTO Ultimate Ninja STORM\")"
      ],
      "execution_count": null,
      "outputs": [
        {
          "output_type": "execute_result",
          "data": {
            "text/html": [
              "<div>\n",
              "<style scoped>\n",
              "    .dataframe tbody tr th:only-of-type {\n",
              "        vertical-align: middle;\n",
              "    }\n",
              "\n",
              "    .dataframe tbody tr th {\n",
              "        vertical-align: top;\n",
              "    }\n",
              "\n",
              "    .dataframe thead th {\n",
              "        text-align: right;\n",
              "    }\n",
              "</style>\n",
              "<table border=\"1\" class=\"dataframe\">\n",
              "  <thead>\n",
              "    <tr style=\"text-align: right;\">\n",
              "      <th></th>\n",
              "      <th>name</th>\n",
              "      <th>positive_ratings</th>\n",
              "      <th>price</th>\n",
              "    </tr>\n",
              "  </thead>\n",
              "  <tbody>\n",
              "    <tr>\n",
              "      <th>4838</th>\n",
              "      <td>NARUTO SHIPPUDEN Ultimate Ninja STORM 4</td>\n",
              "      <td>17336</td>\n",
              "      <td>24.99</td>\n",
              "    </tr>\n",
              "    <tr>\n",
              "      <th>1696</th>\n",
              "      <td>NARUTO SHIPPUDEN Ultimate Ninja STORM 3 Full B...</td>\n",
              "      <td>8209</td>\n",
              "      <td>14.99</td>\n",
              "    </tr>\n",
              "    <tr>\n",
              "      <th>2495</th>\n",
              "      <td>NARUTO SHIPPUDEN Ultimate Ninja STORM Revolution</td>\n",
              "      <td>4152</td>\n",
              "      <td>19.99</td>\n",
              "    </tr>\n",
              "    <tr>\n",
              "      <th>1730</th>\n",
              "      <td>PAC-MAN MUSEUM</td>\n",
              "      <td>120</td>\n",
              "      <td>14.99</td>\n",
              "    </tr>\n",
              "    <tr>\n",
              "      <th>4823</th>\n",
              "      <td>Saint Seiya Soldiers' Soul</td>\n",
              "      <td>1588</td>\n",
              "      <td>39.99</td>\n",
              "    </tr>\n",
              "    <tr>\n",
              "      <th>4472</th>\n",
              "      <td>Grand Class Melee 2</td>\n",
              "      <td>32</td>\n",
              "      <td>5.49</td>\n",
              "    </tr>\n",
              "    <tr>\n",
              "      <th>6360</th>\n",
              "      <td>TEKKEN 7</td>\n",
              "      <td>15372</td>\n",
              "      <td>34.99</td>\n",
              "    </tr>\n",
              "    <tr>\n",
              "      <th>9093</th>\n",
              "      <td>Super ComboMan Smash Edition</td>\n",
              "      <td>2</td>\n",
              "      <td>10.99</td>\n",
              "    </tr>\n",
              "    <tr>\n",
              "      <th>3901</th>\n",
              "      <td>DRAGON BALL XENOVERSE</td>\n",
              "      <td>12601</td>\n",
              "      <td>31.99</td>\n",
              "    </tr>\n",
              "    <tr>\n",
              "      <th>7528</th>\n",
              "      <td>One Piece Burning Blood</td>\n",
              "      <td>1504</td>\n",
              "      <td>39.99</td>\n",
              "    </tr>\n",
              "  </tbody>\n",
              "</table>\n",
              "</div>"
            ],
            "text/plain": [
              "                                                   name  ...  price\n",
              "4838            NARUTO SHIPPUDEN Ultimate Ninja STORM 4  ...  24.99\n",
              "1696  NARUTO SHIPPUDEN Ultimate Ninja STORM 3 Full B...  ...  14.99\n",
              "2495   NARUTO SHIPPUDEN Ultimate Ninja STORM Revolution  ...  19.99\n",
              "1730                                     PAC-MAN MUSEUM  ...  14.99\n",
              "4823                         Saint Seiya Soldiers' Soul  ...  39.99\n",
              "4472                                Grand Class Melee 2  ...   5.49\n",
              "6360                                           TEKKEN 7  ...  34.99\n",
              "9093                       Super ComboMan Smash Edition  ...  10.99\n",
              "3901                              DRAGON BALL XENOVERSE  ...  31.99\n",
              "7528                            One Piece Burning Blood  ...  39.99\n",
              "\n",
              "[10 rows x 3 columns]"
            ]
          },
          "metadata": {},
          "execution_count": 15
        }
      ]
    },
    {
      "cell_type": "code",
      "metadata": {
        "colab": {
          "base_uri": "https://localhost:8080/",
          "height": 357
        },
        "id": "-ftgOp5Cvlc3",
        "outputId": "9c767e95-98eb-44b4-d0a5-13ed3c6d10d9"
      },
      "source": [
        "get_recommendations(\"Counter-Strike\")"
      ],
      "execution_count": null,
      "outputs": [
        {
          "output_type": "execute_result",
          "data": {
            "text/html": [
              "<div>\n",
              "<style scoped>\n",
              "    .dataframe tbody tr th:only-of-type {\n",
              "        vertical-align: middle;\n",
              "    }\n",
              "\n",
              "    .dataframe tbody tr th {\n",
              "        vertical-align: top;\n",
              "    }\n",
              "\n",
              "    .dataframe thead th {\n",
              "        text-align: right;\n",
              "    }\n",
              "</style>\n",
              "<table border=\"1\" class=\"dataframe\">\n",
              "  <thead>\n",
              "    <tr style=\"text-align: right;\">\n",
              "      <th></th>\n",
              "      <th>name</th>\n",
              "      <th>positive_ratings</th>\n",
              "      <th>price</th>\n",
              "    </tr>\n",
              "  </thead>\n",
              "  <tbody>\n",
              "    <tr>\n",
              "      <th>1</th>\n",
              "      <td>Team Fortress Classic</td>\n",
              "      <td>3318</td>\n",
              "      <td>3.99</td>\n",
              "    </tr>\n",
              "    <tr>\n",
              "      <th>3</th>\n",
              "      <td>Deathmatch Classic</td>\n",
              "      <td>1273</td>\n",
              "      <td>3.99</td>\n",
              "    </tr>\n",
              "    <tr>\n",
              "      <th>5</th>\n",
              "      <td>Ricochet</td>\n",
              "      <td>2758</td>\n",
              "      <td>3.99</td>\n",
              "    </tr>\n",
              "    <tr>\n",
              "      <th>7</th>\n",
              "      <td>Counter-Strike Condition Zero</td>\n",
              "      <td>12120</td>\n",
              "      <td>7.19</td>\n",
              "    </tr>\n",
              "    <tr>\n",
              "      <th>15</th>\n",
              "      <td>Half-Life Deathmatch Source</td>\n",
              "      <td>1362</td>\n",
              "      <td>0.00</td>\n",
              "    </tr>\n",
              "    <tr>\n",
              "      <th>6</th>\n",
              "      <td>Half-Life</td>\n",
              "      <td>27755</td>\n",
              "      <td>7.19</td>\n",
              "    </tr>\n",
              "    <tr>\n",
              "      <th>13</th>\n",
              "      <td>Half-Life 2 Deathmatch</td>\n",
              "      <td>6020</td>\n",
              "      <td>3.99</td>\n",
              "    </tr>\n",
              "    <tr>\n",
              "      <th>2</th>\n",
              "      <td>Day of Defeat</td>\n",
              "      <td>3416</td>\n",
              "      <td>3.99</td>\n",
              "    </tr>\n",
              "    <tr>\n",
              "      <th>4</th>\n",
              "      <td>Half-Life Opposing Force</td>\n",
              "      <td>5250</td>\n",
              "      <td>3.99</td>\n",
              "    </tr>\n",
              "    <tr>\n",
              "      <th>2991</th>\n",
              "      <td>Call of Duty Infinite Warfare</td>\n",
              "      <td>7821</td>\n",
              "      <td>39.99</td>\n",
              "    </tr>\n",
              "  </tbody>\n",
              "</table>\n",
              "</div>"
            ],
            "text/plain": [
              "                               name  positive_ratings  price\n",
              "1             Team Fortress Classic              3318   3.99\n",
              "3                Deathmatch Classic              1273   3.99\n",
              "5                          Ricochet              2758   3.99\n",
              "7     Counter-Strike Condition Zero             12120   7.19\n",
              "15      Half-Life Deathmatch Source              1362   0.00\n",
              "6                         Half-Life             27755   7.19\n",
              "13           Half-Life 2 Deathmatch              6020   3.99\n",
              "2                     Day of Defeat              3416   3.99\n",
              "4          Half-Life Opposing Force              5250   3.99\n",
              "2991  Call of Duty Infinite Warfare              7821  39.99"
            ]
          },
          "metadata": {},
          "execution_count": 16
        }
      ]
    },
    {
      "cell_type": "code",
      "metadata": {
        "id": "7dnV7XrfQfOI",
        "colab": {
          "base_uri": "https://localhost:8080/",
          "height": 607
        },
        "outputId": "486d58cc-c84a-471a-c689-6304f0eab5ed"
      },
      "source": [
        "a = df['steamspy_tags'].str.split(';')\n",
        "list1 = []\n",
        "for i in a:\n",
        "    list1.extend(i)\n",
        "plt.subplots(figsize=(12,10))\n",
        "ax = pd.Series(list1).value_counts()[:10].sort_values(ascending=True).plot.barh(width=0.9,color=sns.color_palette('hls',10))\n",
        "for i, v in enumerate(pd.Series(list1).value_counts()[:10].sort_values(ascending=True).values): \n",
        "    ax.text(.8, i, v,fontsize=12,color='white',weight='bold')\n",
        "plt.title('Top Genres')\n",
        "plt.show()"
      ],
      "execution_count": null,
      "outputs": [
        {
          "output_type": "display_data",
          "data": {
            "image/png": "[encoded data removed]",
            "text/plain": [
              "<Figure size 864x720 with 1 Axes>"
            ]
          },
          "metadata": {
            "needs_background": "light"
          }
        }
      ]
    },
    {
      "cell_type": "code",
      "metadata": {
        "colab": {
          "base_uri": "https://localhost:8080/"
        },
        "id": "xwBmKC7jkMYS",
        "outputId": "209cc9f9-57af-4601-a2c1-f67fb9dd0d10"
      },
      "source": [
        "pd.Series(list1).value_counts()"
      ],
      "execution_count": null,
      "outputs": [
        {
          "output_type": "execute_result",
          "data": {
            "text/plain": [
              "Indie           5057\n",
              "Action          3619\n",
              "Adventure       2641\n",
              "Casual          2057\n",
              "Strategy        1795\n",
              "                ... \n",
              "Old School         1\n",
              "3D                 1\n",
              "Snowboarding       1\n",
              "Parody             1\n",
              "Cartoony           1\n",
              "Length: 306, dtype: int64"
            ]
          },
          "metadata": {},
          "execution_count": 18
        }
      ]
    },
    {
      "cell_type": "code",
      "metadata": {
        "id": "TPNT9v9rlcMZ"
      },
      "source": [
        ""
      ],
      "execution_count": null,
      "outputs": []
    },
    {
      "cell_type": "markdown",
      "metadata": {
        "id": "N8rKF98Rfmz-"
      },
      "source": [
        "# Collaborative Filtering"
      ]
    },
    {
      "cell_type": "code",
      "metadata": {
        "id": "JqMaBcbrn1uD",
        "colab": {
          "base_uri": "https://localhost:8080/",
          "height": 142
        },
        "outputId": "5f9dd043-e997-4384-f608-05c56b6e09d6"
      },
      "source": [
        "orginal_rating = pd.read_csv(\"/content/drive/MyDrive/Dataset/update_steam/final_sample.csv\")\n",
        "orginal_rating.head(3)"
      ],
      "execution_count": null,
      "outputs": [
        {
          "output_type": "execute_result",
          "data": {
            "text/html": [
              "<div>\n",
              "<style scoped>\n",
              "    .dataframe tbody tr th:only-of-type {\n",
              "        vertical-align: middle;\n",
              "    }\n",
              "\n",
              "    .dataframe tbody tr th {\n",
              "        vertical-align: top;\n",
              "    }\n",
              "\n",
              "    .dataframe thead th {\n",
              "        text-align: right;\n",
              "    }\n",
              "</style>\n",
              "<table border=\"1\" class=\"dataframe\">\n",
              "  <thead>\n",
              "    <tr style=\"text-align: right;\">\n",
              "      <th></th>\n",
              "      <th>UserId</th>\n",
              "      <th>name</th>\n",
              "      <th>appid</th>\n",
              "      <th>status</th>\n",
              "      <th>value</th>\n",
              "    </tr>\n",
              "  </thead>\n",
              "  <tbody>\n",
              "    <tr>\n",
              "      <th>0</th>\n",
              "      <td>5250</td>\n",
              "      <td>Alien Swarm</td>\n",
              "      <td>630.0</td>\n",
              "      <td>purchase</td>\n",
              "      <td>1.0</td>\n",
              "    </tr>\n",
              "    <tr>\n",
              "      <th>1</th>\n",
              "      <td>5250</td>\n",
              "      <td>Alien Swarm</td>\n",
              "      <td>630.0</td>\n",
              "      <td>play</td>\n",
              "      <td>4.9</td>\n",
              "    </tr>\n",
              "    <tr>\n",
              "      <th>2</th>\n",
              "      <td>5250</td>\n",
              "      <td>Cities Skylines</td>\n",
              "      <td>255710.0</td>\n",
              "      <td>purchase</td>\n",
              "      <td>1.0</td>\n",
              "    </tr>\n",
              "  </tbody>\n",
              "</table>\n",
              "</div>"
            ],
            "text/plain": [
              "   UserId             name     appid    status  value\n",
              "0    5250      Alien Swarm     630.0  purchase    1.0\n",
              "1    5250      Alien Swarm     630.0      play    4.9\n",
              "2    5250  Cities Skylines  255710.0  purchase    1.0"
            ]
          },
          "metadata": {},
          "execution_count": 19
        }
      ]
    },
    {
      "cell_type": "code",
      "metadata": {
        "colab": {
          "base_uri": "https://localhost:8080/",
          "height": 357
        },
        "id": "huq9jivpfxf6",
        "outputId": "ad5c5dfc-6d51-4be3-fdd9-4d582cfee2d7"
      },
      "source": [
        "# Remove status play row\n",
        "rating = orginal_rating[orginal_rating['status'] == 'play'].drop(['status'], axis = 1)\n",
        "rating['appid'] = rating['appid'].astype(int)\n",
        "rating.head(10)"
      ],
      "execution_count": null,
      "outputs": [
        {
          "output_type": "execute_result",
          "data": {
            "text/html": [
              "<div>\n",
              "<style scoped>\n",
              "    .dataframe tbody tr th:only-of-type {\n",
              "        vertical-align: middle;\n",
              "    }\n",
              "\n",
              "    .dataframe tbody tr th {\n",
              "        vertical-align: top;\n",
              "    }\n",
              "\n",
              "    .dataframe thead th {\n",
              "        text-align: right;\n",
              "    }\n",
              "</style>\n",
              "<table border=\"1\" class=\"dataframe\">\n",
              "  <thead>\n",
              "    <tr style=\"text-align: right;\">\n",
              "      <th></th>\n",
              "      <th>UserId</th>\n",
              "      <th>name</th>\n",
              "      <th>appid</th>\n",
              "      <th>value</th>\n",
              "    </tr>\n",
              "  </thead>\n",
              "  <tbody>\n",
              "    <tr>\n",
              "      <th>1</th>\n",
              "      <td>5250</td>\n",
              "      <td>Alien Swarm</td>\n",
              "      <td>630</td>\n",
              "      <td>4.9</td>\n",
              "    </tr>\n",
              "    <tr>\n",
              "      <th>3</th>\n",
              "      <td>5250</td>\n",
              "      <td>Cities Skylines</td>\n",
              "      <td>255710</td>\n",
              "      <td>144.0</td>\n",
              "    </tr>\n",
              "    <tr>\n",
              "      <th>9</th>\n",
              "      <td>5250</td>\n",
              "      <td>Dota 2</td>\n",
              "      <td>570</td>\n",
              "      <td>0.2</td>\n",
              "    </tr>\n",
              "    <tr>\n",
              "      <th>20</th>\n",
              "      <td>5250</td>\n",
              "      <td>Portal 2</td>\n",
              "      <td>620</td>\n",
              "      <td>13.6</td>\n",
              "    </tr>\n",
              "    <tr>\n",
              "      <th>23</th>\n",
              "      <td>5250</td>\n",
              "      <td>Team Fortress 2</td>\n",
              "      <td>440</td>\n",
              "      <td>0.8</td>\n",
              "    </tr>\n",
              "    <tr>\n",
              "      <th>26</th>\n",
              "      <td>76767</td>\n",
              "      <td>Alien Swarm</td>\n",
              "      <td>630</td>\n",
              "      <td>0.8</td>\n",
              "    </tr>\n",
              "    <tr>\n",
              "      <th>30</th>\n",
              "      <td>76767</td>\n",
              "      <td>Banished</td>\n",
              "      <td>242920</td>\n",
              "      <td>24.0</td>\n",
              "    </tr>\n",
              "    <tr>\n",
              "      <th>32</th>\n",
              "      <td>76767</td>\n",
              "      <td>Call of Duty Black Ops</td>\n",
              "      <td>42700</td>\n",
              "      <td>22.0</td>\n",
              "    </tr>\n",
              "    <tr>\n",
              "      <th>34</th>\n",
              "      <td>76767</td>\n",
              "      <td>Call of Duty Modern Warfare 2</td>\n",
              "      <td>10180</td>\n",
              "      <td>65.0</td>\n",
              "    </tr>\n",
              "    <tr>\n",
              "      <th>36</th>\n",
              "      <td>76767</td>\n",
              "      <td>Call of Duty World at War</td>\n",
              "      <td>10090</td>\n",
              "      <td>271.0</td>\n",
              "    </tr>\n",
              "  </tbody>\n",
              "</table>\n",
              "</div>"
            ],
            "text/plain": [
              "    UserId                           name   appid  value\n",
              "1     5250                    Alien Swarm     630    4.9\n",
              "3     5250                Cities Skylines  255710  144.0\n",
              "9     5250                         Dota 2     570    0.2\n",
              "20    5250                       Portal 2     620   13.6\n",
              "23    5250                Team Fortress 2     440    0.8\n",
              "26   76767                    Alien Swarm     630    0.8\n",
              "30   76767                       Banished  242920   24.0\n",
              "32   76767         Call of Duty Black Ops   42700   22.0\n",
              "34   76767  Call of Duty Modern Warfare 2   10180   65.0\n",
              "36   76767      Call of Duty World at War   10090  271.0"
            ]
          },
          "metadata": {},
          "execution_count": 20
        }
      ]
    },
    {
      "cell_type": "code",
      "metadata": {
        "colab": {
          "base_uri": "https://localhost:8080/"
        },
        "id": "RtqTsq2Zo9u1",
        "outputId": "2d5c6f13-af52-47a3-830c-ca10c25b515a"
      },
      "source": [
        "rating['value'].sort_values(ascending=True)"
      ],
      "execution_count": null,
      "outputs": [
        {
          "output_type": "execute_result",
          "data": {
            "text/plain": [
              "106755        0.1\n",
              "38507         0.1\n",
              "38525         0.1\n",
              "38536         0.1\n",
              "38566         0.1\n",
              "           ...   \n",
              "39051      6964.0\n",
              "90182      7765.0\n",
              "99107      9640.0\n",
              "73740     10442.0\n",
              "56198     11754.0\n",
              "Name: value, Length: 52165, dtype: float64"
            ]
          },
          "metadata": {},
          "execution_count": 21
        }
      ]
    },
    {
      "cell_type": "code",
      "metadata": {
        "id": "9EGwgBfCgD9p"
      },
      "source": [
        "reader = Reader()\n",
        "data = Dataset.load_from_df(rating[['UserId', 'appid','value']], reader)"
      ],
      "execution_count": null,
      "outputs": []
    },
    {
      "cell_type": "code",
      "metadata": {
        "colab": {
          "base_uri": "https://localhost:8080/"
        },
        "id": "1j70dabyh8K1",
        "outputId": "2bab80c0-de62-44ac-f0fc-9281cdd20bd6"
      },
      "source": [
        "svd = SVD()\n",
        "cross_validate(svd, data, measures=['RMSE', 'MAE'], cv = 5, verbose=0)"
      ],
      "execution_count": null,
      "outputs": [
        {
          "output_type": "execute_result",
          "data": {
            "text/plain": [
              "{'fit_time': (2.522118330001831,\n",
              "  2.5690340995788574,\n",
              "  2.5822715759277344,\n",
              "  2.4486873149871826,\n",
              "  2.461613178253174),\n",
              " 'test_mae': array([50.55028276, 54.4241733 , 52.64504936, 56.46915556, 52.92998179]),\n",
              " 'test_rmse': array([241.83600858, 268.99774226, 264.73453459, 280.62142788,\n",
              "        242.30894503]),\n",
              " 'test_time': (0.15235137939453125,\n",
              "  0.08854222297668457,\n",
              "  0.0966787338256836,\n",
              "  0.18162250518798828,\n",
              "  0.08418416976928711)}"
            ]
          },
          "metadata": {},
          "execution_count": 23
        }
      ]
    },
    {
      "cell_type": "code",
      "metadata": {
        "colab": {
          "base_uri": "https://localhost:8080/"
        },
        "id": "PMqWWx9Ci1_B",
        "outputId": "3642c587-7e3f-44e9-f364-f7ac66ce2e89"
      },
      "source": [
        "trainset = data.build_full_trainset()\n",
        "svd.fit(trainset)"
      ],
      "execution_count": null,
      "outputs": [
        {
          "output_type": "execute_result",
          "data": {
            "text/plain": [
              "<surprise.prediction_algorithms.matrix_factorization.SVD at 0x7fb0c15f0ed0>"
            ]
          },
          "metadata": {},
          "execution_count": 24
        }
      ]
    },
    {
      "cell_type": "code",
      "metadata": {
        "colab": {
          "base_uri": "https://localhost:8080/"
        },
        "id": "Ux4BwGe9jlv1",
        "outputId": "84c2ea2a-ec0a-49c9-e7b8-bc9acc4bec51"
      },
      "source": [
        "svd.predict(76767, 100,3)\n",
        "# a.est"
      ],
      "execution_count": null,
      "outputs": [
        {
          "output_type": "execute_result",
          "data": {
            "text/plain": [
              "Prediction(uid=76767, iid=100, r_ui=3, est=5, details={'was_impossible': False})"
            ]
          },
          "metadata": {},
          "execution_count": 33
        }
      ]
    },
    {
      "cell_type": "markdown",
      "metadata": {
        "id": "Fv_MeOmxk1V2"
      },
      "source": [
        "# Hybrid Recommender"
      ]
    },
    {
      "cell_type": "code",
      "metadata": {
        "colab": {
          "base_uri": "https://localhost:8080/",
          "height": 218
        },
        "id": "W-1xlHt6m-UO",
        "outputId": "885592e4-0b51-4432-fece-1c7c08b597fe"
      },
      "source": [
        "df.head(1)"
      ],
      "execution_count": null,
      "outputs": [
        {
          "output_type": "execute_result",
          "data": {
            "text/html": [
              "<div>\n",
              "<style scoped>\n",
              "    .dataframe tbody tr th:only-of-type {\n",
              "        vertical-align: middle;\n",
              "    }\n",
              "\n",
              "    .dataframe tbody tr th {\n",
              "        vertical-align: top;\n",
              "    }\n",
              "\n",
              "    .dataframe thead th {\n",
              "        text-align: right;\n",
              "    }\n",
              "</style>\n",
              "<table border=\"1\" class=\"dataframe\">\n",
              "  <thead>\n",
              "    <tr style=\"text-align: right;\">\n",
              "      <th></th>\n",
              "      <th>appid</th>\n",
              "      <th>name</th>\n",
              "      <th>release_date</th>\n",
              "      <th>english</th>\n",
              "      <th>developer</th>\n",
              "      <th>publisher</th>\n",
              "      <th>platforms</th>\n",
              "      <th>required_age</th>\n",
              "      <th>categories</th>\n",
              "      <th>genres</th>\n",
              "      <th>steamspy_tags</th>\n",
              "      <th>achievements</th>\n",
              "      <th>positive_ratings</th>\n",
              "      <th>negative_ratings</th>\n",
              "      <th>average_playtime</th>\n",
              "      <th>median_playtime</th>\n",
              "      <th>owners</th>\n",
              "      <th>price</th>\n",
              "      <th>about_the_game</th>\n",
              "      <th>soup</th>\n",
              "    </tr>\n",
              "  </thead>\n",
              "  <tbody>\n",
              "    <tr>\n",
              "      <th>0</th>\n",
              "      <td>10</td>\n",
              "      <td>Counter-Strike</td>\n",
              "      <td>11/1/2000</td>\n",
              "      <td>1</td>\n",
              "      <td>Valve</td>\n",
              "      <td>Valve</td>\n",
              "      <td>windows;mac;linux</td>\n",
              "      <td>0</td>\n",
              "      <td>Multi-player;Online Multi-Player;Local Multi-P...</td>\n",
              "      <td>Action</td>\n",
              "      <td>Action;FPS;Multiplayer</td>\n",
              "      <td>0</td>\n",
              "      <td>124534</td>\n",
              "      <td>3339</td>\n",
              "      <td>17612</td>\n",
              "      <td>317</td>\n",
              "      <td>10000000-20000000</td>\n",
              "      <td>7.19</td>\n",
              "      <td>Play the world's number 1 online action game. ...</td>\n",
              "      <td>Valve Valve Multi-player Online Multi-Player L...</td>\n",
              "    </tr>\n",
              "  </tbody>\n",
              "</table>\n",
              "</div>"
            ],
            "text/plain": [
              "   appid  ...                                               soup\n",
              "0     10  ...  Valve Valve Multi-player Online Multi-Player L...\n",
              "\n",
              "[1 rows x 20 columns]"
            ]
          },
          "metadata": {},
          "execution_count": 26
        }
      ]
    },
    {
      "cell_type": "code",
      "metadata": {
        "id": "67ZkeDLFk3X3"
      },
      "source": [
        "def hybrid(userId, title):\n",
        "    # Get the index of the movie that matches the title\n",
        "    idx = indices[title]\n",
        "\n",
        "    # Get the pairwsie similarity scores of all movies with that movie\n",
        "    sim_scores = list(enumerate(cosine_sim[idx]))\n",
        "\n",
        "    # Sort the movies based on the similarity scores\n",
        "    sim_scores = sorted(sim_scores, key=lambda x: x[1], reverse=True)\n",
        "\n",
        "    # Get the scores of the 10 most similar game\n",
        "    sim_scores = sim_scores[1:26]\n",
        "    game_indices = [i[0] for i in sim_scores]\n",
        "    result = df.iloc[game_indices]\n",
        "    result['sim_scores'] = sim_scores\n",
        "    result['est'] = result['appid'].apply(lambda x: svd.predict(userId, x).est)\n",
        "    result = result.sort_values('est', ascending=False)\n",
        "    return result.head(10)"
      ],
      "execution_count": null,
      "outputs": []
    },
    {
      "cell_type": "code",
      "metadata": {
        "colab": {
          "base_uri": "https://localhost:8080/",
          "height": 1000
        },
        "id": "WGrAFEEdn_a7",
        "outputId": "8b4c045f-9c89-4e83-84b9-37cb21408158"
      },
      "source": [
        "hybrid(76767,'NARUTO SHIPPUDEN Ultimate Ninja STORM 4')"
      ],
      "execution_count": null,
      "outputs": [
        {
          "output_type": "stream",
          "name": "stderr",
          "text": [
            "/usr/local/lib/python3.7/dist-packages/ipykernel_launcher.py:15: SettingWithCopyWarning: \n",
            "A value is trying to be set on a copy of a slice from a DataFrame.\n",
            "Try using .loc[row_indexer,col_indexer] = value instead\n",
            "\n",
            "See the caveats in the documentation: https://pandas.pydata.org/pandas-docs/stable/user_guide/indexing.html#returning-a-view-versus-a-copy\n",
            "  from ipykernel import kernelapp as app\n",
            "/usr/local/lib/python3.7/dist-packages/ipykernel_launcher.py:16: SettingWithCopyWarning: \n",
            "A value is trying to be set on a copy of a slice from a DataFrame.\n",
            "Try using .loc[row_indexer,col_indexer] = value instead\n",
            "\n",
            "See the caveats in the documentation: https://pandas.pydata.org/pandas-docs/stable/user_guide/indexing.html#returning-a-view-versus-a-copy\n",
            "  app.launch_new_instance()\n"
          ]
        },
        {
          "output_type": "execute_result",
          "data": {
            "text/html": [
              "<div>\n",
              "<style scoped>\n",
              "    .dataframe tbody tr th:only-of-type {\n",
              "        vertical-align: middle;\n",
              "    }\n",
              "\n",
              "    .dataframe tbody tr th {\n",
              "        vertical-align: top;\n",
              "    }\n",
              "\n",
              "    .dataframe thead th {\n",
              "        text-align: right;\n",
              "    }\n",
              "</style>\n",
              "<table border=\"1\" class=\"dataframe\">\n",
              "  <thead>\n",
              "    <tr style=\"text-align: right;\">\n",
              "      <th></th>\n",
              "      <th>appid</th>\n",
              "      <th>name</th>\n",
              "      <th>release_date</th>\n",
              "      <th>english</th>\n",
              "      <th>developer</th>\n",
              "      <th>publisher</th>\n",
              "      <th>platforms</th>\n",
              "      <th>required_age</th>\n",
              "      <th>categories</th>\n",
              "      <th>genres</th>\n",
              "      <th>steamspy_tags</th>\n",
              "      <th>achievements</th>\n",
              "      <th>positive_ratings</th>\n",
              "      <th>negative_ratings</th>\n",
              "      <th>average_playtime</th>\n",
              "      <th>median_playtime</th>\n",
              "      <th>owners</th>\n",
              "      <th>price</th>\n",
              "      <th>about_the_game</th>\n",
              "      <th>soup</th>\n",
              "      <th>sim_scores</th>\n",
              "      <th>est</th>\n",
              "    </tr>\n",
              "  </thead>\n",
              "  <tbody>\n",
              "    <tr>\n",
              "      <th>2495</th>\n",
              "      <td>272510</td>\n",
              "      <td>NARUTO SHIPPUDEN Ultimate Ninja STORM Revolution</td>\n",
              "      <td>9/15/2014</td>\n",
              "      <td>1</td>\n",
              "      <td>CyberConnect2 Co., Ltd.</td>\n",
              "      <td>BANDAI NAMCO Entertainment</td>\n",
              "      <td>windows</td>\n",
              "      <td>0</td>\n",
              "      <td>Single-player;Multi-player;Steam Achievements;...</td>\n",
              "      <td>Action;Adventure</td>\n",
              "      <td>Anime;Fighting;Ninja</td>\n",
              "      <td>50</td>\n",
              "      <td>4152</td>\n",
              "      <td>995</td>\n",
              "      <td>969</td>\n",
              "      <td>1434</td>\n",
              "      <td>200000-500000</td>\n",
              "      <td>19.99</td>\n",
              "      <td>&lt;strong&gt;THE REVOLUTIONARY STORM SERIES RETURNS...</td>\n",
              "      <td>CyberConnect2 Co., Ltd. BANDAI NAMCO Entertain...</td>\n",
              "      <td>(2495, 0.9435641951204966)</td>\n",
              "      <td>5</td>\n",
              "    </tr>\n",
              "    <tr>\n",
              "      <th>1584</th>\n",
              "      <td>226780</td>\n",
              "      <td>MUD Motocross World Championship</td>\n",
              "      <td>3/15/2013</td>\n",
              "      <td>1</td>\n",
              "      <td>Milestone S.r.l.</td>\n",
              "      <td>BANDAI NAMCO Entertainment</td>\n",
              "      <td>windows</td>\n",
              "      <td>0</td>\n",
              "      <td>Single-player;Multi-player;Steam Achievements;...</td>\n",
              "      <td>Racing;Sports</td>\n",
              "      <td>Motocross;Racing;Motorbike</td>\n",
              "      <td>50</td>\n",
              "      <td>42</td>\n",
              "      <td>44</td>\n",
              "      <td>0</td>\n",
              "      <td>0</td>\n",
              "      <td>20000-50000</td>\n",
              "      <td>7.99</td>\n",
              "      <td>The only videogame that exclusively features t...</td>\n",
              "      <td>Milestone S.r.l. BANDAI NAMCO Entertainment Si...</td>\n",
              "      <td>(1584, 0.7703288865196434)</td>\n",
              "      <td>5</td>\n",
              "    </tr>\n",
              "    <tr>\n",
              "      <th>7860</th>\n",
              "      <td>434790</td>\n",
              "      <td>Planet 1138</td>\n",
              "      <td>2/18/2016</td>\n",
              "      <td>1</td>\n",
              "      <td>Bionic Pony</td>\n",
              "      <td>Triskelia Games</td>\n",
              "      <td>windows</td>\n",
              "      <td>0</td>\n",
              "      <td>Single-player;Multi-player;Steam Achievements;...</td>\n",
              "      <td>Action;Indie;Strategy</td>\n",
              "      <td>Strategy;Action;Indie</td>\n",
              "      <td>18</td>\n",
              "      <td>11</td>\n",
              "      <td>4</td>\n",
              "      <td>0</td>\n",
              "      <td>0</td>\n",
              "      <td>0-20000</td>\n",
              "      <td>1.99</td>\n",
              "      <td>Planet 1138 is a vehicle based action game wit...</td>\n",
              "      <td>Bionic Pony Triskelia Games Single-player Mult...</td>\n",
              "      <td>(7860, 0.7548513560963972)</td>\n",
              "      <td>5</td>\n",
              "    </tr>\n",
              "    <tr>\n",
              "      <th>943</th>\n",
              "      <td>57900</td>\n",
              "      <td>Duke Nukem Forever</td>\n",
              "      <td>6/9/2011</td>\n",
              "      <td>1</td>\n",
              "      <td>Gearbox Software</td>\n",
              "      <td>2K</td>\n",
              "      <td>windows;mac</td>\n",
              "      <td>18</td>\n",
              "      <td>Single-player;Multi-player;Steam Achievements;...</td>\n",
              "      <td>Action</td>\n",
              "      <td>FPS;Action;Nudity</td>\n",
              "      <td>62</td>\n",
              "      <td>4433</td>\n",
              "      <td>2243</td>\n",
              "      <td>434</td>\n",
              "      <td>472</td>\n",
              "      <td>1000000-2000000</td>\n",
              "      <td>14.99</td>\n",
              "      <td>The King is Back!&lt;br&gt;&lt;br&gt;\\t\\t\\t\\t\\t\\tCocked, l...</td>\n",
              "      <td>Gearbox Software 2K Single-player Multi-player...</td>\n",
              "      <td>(943, 0.7548513560963972)</td>\n",
              "      <td>5</td>\n",
              "    </tr>\n",
              "    <tr>\n",
              "      <th>9323</th>\n",
              "      <td>482450</td>\n",
              "      <td>Nitroplus Blasterz Heroines Infinite Duel</td>\n",
              "      <td>12/8/2016</td>\n",
              "      <td>1</td>\n",
              "      <td>EXAMU</td>\n",
              "      <td>XSEED Games;Marvelous USA, Inc.;Marvelous</td>\n",
              "      <td>windows</td>\n",
              "      <td>0</td>\n",
              "      <td>Single-player;Multi-player;Online Multi-Player...</td>\n",
              "      <td>Action</td>\n",
              "      <td>Anime;Fighting;Action</td>\n",
              "      <td>51</td>\n",
              "      <td>375</td>\n",
              "      <td>46</td>\n",
              "      <td>198</td>\n",
              "      <td>198</td>\n",
              "      <td>20000-50000</td>\n",
              "      <td>14.99</td>\n",
              "      <td>EXAMU, the developers behind the popular &lt;i&gt;Ar...</td>\n",
              "      <td>EXAMU XSEED Games;Marvelous USA, Inc.;Marvelou...</td>\n",
              "      <td>(9323, 0.7614996105085897)</td>\n",
              "      <td>5</td>\n",
              "    </tr>\n",
              "    <tr>\n",
              "      <th>4099</th>\n",
              "      <td>330180</td>\n",
              "      <td>Pix the Cat</td>\n",
              "      <td>1/29/2015</td>\n",
              "      <td>1</td>\n",
              "      <td>Pastagames</td>\n",
              "      <td>Focus Home Interactive</td>\n",
              "      <td>windows;mac;linux</td>\n",
              "      <td>0</td>\n",
              "      <td>Single-player;Multi-player;Steam Achievements;...</td>\n",
              "      <td>Action;Indie</td>\n",
              "      <td>Indie;Action;Cats</td>\n",
              "      <td>11</td>\n",
              "      <td>239</td>\n",
              "      <td>60</td>\n",
              "      <td>247</td>\n",
              "      <td>247</td>\n",
              "      <td>50000-100000</td>\n",
              "      <td>6.99</td>\n",
              "      <td>&lt;i&gt;“In Pix the Cat, you are Pix, the first cat...</td>\n",
              "      <td>Pastagames Focus Home Interactive Single-playe...</td>\n",
              "      <td>(4099, 0.7624425757515653)</td>\n",
              "      <td>5</td>\n",
              "    </tr>\n",
              "    <tr>\n",
              "      <th>3332</th>\n",
              "      <td>303830</td>\n",
              "      <td>Motorcycle Club</td>\n",
              "      <td>11/28/2014</td>\n",
              "      <td>1</td>\n",
              "      <td>Kylotonn Entertainment</td>\n",
              "      <td>Bigben Interactive;Plug In Digital</td>\n",
              "      <td>windows</td>\n",
              "      <td>0</td>\n",
              "      <td>Single-player;Multi-player;Steam Achievements;...</td>\n",
              "      <td>Racing</td>\n",
              "      <td>Racing</td>\n",
              "      <td>50</td>\n",
              "      <td>16</td>\n",
              "      <td>52</td>\n",
              "      <td>0</td>\n",
              "      <td>0</td>\n",
              "      <td>0-20000</td>\n",
              "      <td>6.99</td>\n",
              "      <td>&lt;h2 class=\"bb_tag\"&gt;THE RIDE OF YOUR LIFE&lt;/h2&gt;&lt;...</td>\n",
              "      <td>Kylotonn Entertainment Bigben Interactive;Plug...</td>\n",
              "      <td>(3332, 0.7624425757515653)</td>\n",
              "      <td>5</td>\n",
              "    </tr>\n",
              "    <tr>\n",
              "      <th>5988</th>\n",
              "      <td>378860</td>\n",
              "      <td>Project CARS 2</td>\n",
              "      <td>9/21/2017</td>\n",
              "      <td>1</td>\n",
              "      <td>Slightly Mad Studios</td>\n",
              "      <td>BANDAI NAMCO Entertainment</td>\n",
              "      <td>windows</td>\n",
              "      <td>0</td>\n",
              "      <td>Single-player;Multi-player;Online Multi-Player...</td>\n",
              "      <td>Racing</td>\n",
              "      <td>Racing;Driving;Simulation</td>\n",
              "      <td>47</td>\n",
              "      <td>4190</td>\n",
              "      <td>1747</td>\n",
              "      <td>121</td>\n",
              "      <td>169</td>\n",
              "      <td>200000-500000</td>\n",
              "      <td>44.99</td>\n",
              "      <td>FEATURES: &lt;br&gt;• 180+ elite- brand race &amp;amp; r...</td>\n",
              "      <td>Slightly Mad Studios BANDAI NAMCO Entertainmen...</td>\n",
              "      <td>(5988, 0.7624425757515654)</td>\n",
              "      <td>5</td>\n",
              "    </tr>\n",
              "    <tr>\n",
              "      <th>8031</th>\n",
              "      <td>439910</td>\n",
              "      <td>Risky Rescue</td>\n",
              "      <td>2/19/2016</td>\n",
              "      <td>1</td>\n",
              "      <td>Digital Melody</td>\n",
              "      <td>Forever Entertainment S. A.</td>\n",
              "      <td>windows;mac;linux</td>\n",
              "      <td>0</td>\n",
              "      <td>Single-player;Multi-player;Cross-Platform Mult...</td>\n",
              "      <td>Action;Casual;Indie</td>\n",
              "      <td>Casual;Action;Indie</td>\n",
              "      <td>9</td>\n",
              "      <td>248</td>\n",
              "      <td>62</td>\n",
              "      <td>209</td>\n",
              "      <td>245</td>\n",
              "      <td>50000-100000</td>\n",
              "      <td>0.79</td>\n",
              "      <td>New game from the creators of award winning Ti...</td>\n",
              "      <td>Digital Melody Forever Entertainment S. A. Sin...</td>\n",
              "      <td>(8031, 0.7635417155709334)</td>\n",
              "      <td>5</td>\n",
              "    </tr>\n",
              "    <tr>\n",
              "      <th>3441</th>\n",
              "      <td>307780</td>\n",
              "      <td>Mortal Kombat X</td>\n",
              "      <td>4/13/2015</td>\n",
              "      <td>1</td>\n",
              "      <td>NetherRealm Studios;QLOC</td>\n",
              "      <td>Warner Bros. Interactive Entertainment</td>\n",
              "      <td>windows</td>\n",
              "      <td>18</td>\n",
              "      <td>Single-player;Multi-player;Steam Achievements;...</td>\n",
              "      <td>Action</td>\n",
              "      <td>Fighting;Gore;Action</td>\n",
              "      <td>73</td>\n",
              "      <td>21484</td>\n",
              "      <td>7154</td>\n",
              "      <td>1030</td>\n",
              "      <td>446</td>\n",
              "      <td>1000000-2000000</td>\n",
              "      <td>15.99</td>\n",
              "      <td>Who’s Next?  Experience the Next Generation of...</td>\n",
              "      <td>NetherRealm Studios;QLOC Warner Bros. Interact...</td>\n",
              "      <td>(3441, 0.7635417155709334)</td>\n",
              "      <td>5</td>\n",
              "    </tr>\n",
              "  </tbody>\n",
              "</table>\n",
              "</div>"
            ],
            "text/plain": [
              "       appid  ... est\n",
              "2495  272510  ...   5\n",
              "1584  226780  ...   5\n",
              "7860  434790  ...   5\n",
              "943    57900  ...   5\n",
              "9323  482450  ...   5\n",
              "4099  330180  ...   5\n",
              "3332  303830  ...   5\n",
              "5988  378860  ...   5\n",
              "8031  439910  ...   5\n",
              "3441  307780  ...   5\n",
              "\n",
              "[10 rows x 22 columns]"
            ]
          },
          "metadata": {},
          "execution_count": 28
        }
      ]
    },
    {
      "cell_type": "code",
      "metadata": {
        "id": "_eG-iabYoRXl"
      },
      "source": [
        ""
      ],
      "execution_count": null,
      "outputs": []
    }
  ]
}